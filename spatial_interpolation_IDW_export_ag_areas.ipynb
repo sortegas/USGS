{
 "cells": [
  {
   "cell_type": "markdown",
   "id": "ed7b9876-f0cf-495c-869f-4ca1841011a0",
   "metadata": {},
   "source": [
    "## Inverse Distance Weighting (IDW) for sptial data gap fillling due to cloud coverage"
   ]
  },
  {
   "cell_type": "markdown",
   "id": "6fa2362e-630b-4a7d-828e-a06b2ba7741e",
   "metadata": {},
   "source": [
    "We started with defining the specific geometry as a synthetic cloud that is located in the landsat scene to test IDW algorithm. This algorithm is used to fill the spatial data gap due to cloud coverage. We are interpolating Evapotranspiration data extracted from google earth engine data repository and Evapotranspiration (ET) data is calculated from eeMETRIC model. "
   ]
  },
  {
   "cell_type": "code",
   "execution_count": 1,
   "id": "ec7060d6",
   "metadata": {},
   "outputs": [],
   "source": [
    "# Importing necessary modules use for gee python api interface\n",
    "import ee\n",
    "ee.Initialize(project='enter your GEE cloud project name')  # Initialize with your GEE project name by replacing \" enter your GEE cloud project name\" with your project name"
   ]
  },
  {
   "cell_type": "code",
   "execution_count": 2,
   "id": "63cc8f45",
   "metadata": {},
   "outputs": [],
   "source": [
    "# Read  daily ET data calculated from eeMETRIC model for all available dates from GEE repository \n",
    "ET = ee.ImageCollection(\"projects/openet/assets/eemetric/conus/gridmet/landsat/c02\")\n",
    "\n",
    "# Note: Geometry polygon for any location of interest could be defined and here we have tested one location at Nebraska\n",
    "# Define geometry for synthetic cloud\n",
    "artificial_cloud = ee.Geometry.Polygon(\\\n",
    "        [[[-96.3384851427627, 41.98461447066241],\\\n",
    "          [-96.3384851427627, 41.89727618376869],\\\n",
    "          [-96.19978275018458, 41.89727618376869],\\\n",
    "          [-96.19978275018458, 41.98461447066241]]], None, False)\n",
    "\n",
    "# test location for small field\n",
    "Field1=ee.Geometry.Polygon(\\\n",
    "        [[[-96.22126709256656,41.97858925760811],\\\n",
    "          [-96.20822082791813,41.97858925760811],\\\n",
    "          [-96.20822082791813,41.9830555272184],\\\n",
    "          [-96.22126709256656,41.9830555272184],\\\n",
    "          [-96.22126709256656,41.97858925760811]]], None, False)\n",
    "\n",
    "area2mask=Field1\n"
   ]
  },
  {
   "cell_type": "code",
   "execution_count": 3,
   "id": "ae0cc86c",
   "metadata": {},
   "outputs": [],
   "source": [
    "# Define function to masking artifical cloud\n",
    "def artificial_cloud_image(image):\n",
    "    filters = image.updateMask(masking)\n",
    "    return filters.copyProperties(image).copyProperties(image, ['system:time_start'])\n",
    "\n",
    "# Define function to rename time with short name that is associated with image collections\n",
    "def addTimeBand(image):\n",
    "    timeImage = image.metadata('system:time_start').rename('timestamp')\n",
    "    timeImageMasked = timeImage.updateMask(image.mask().select(0))\n",
    "    return image.addBands(timeImageMasked)\n",
    "\n",
    "# Define function for IDW interpolation to interpolate data for data gap filling\n",
    "def interpolation(image):\n",
    "    image = ee.Image(image)\n",
    "    geometryImage = ee.Geometry(image.geometry())\n",
    "    #30 is for the landsat pixel size\n",
    "    rectangle = area2mask.buffer(ee.Number(30))\n",
    "    rectangle = rectangle.difference(area2mask,0.001)\n",
    "    \n",
    "    image1 = image.unmask(-20)\n",
    "    \n",
    "    imageSample = ee.Image(image).sample(**{\n",
    "        'region': rectangle,\\\n",
    "        'geometries': True\n",
    "    });\n",
    "    imageSample = ee.FeatureCollection(imageSample)\n",
    "    sampleSize = imageSample.size();\n",
    "    isNotEmpty = sampleSize.gt(0);\n",
    "    \n",
    "    def stats(stats1):\n",
    "        stats1 = ee.Dictionary(stats1)\n",
    "        mean_image = stats1.get('mean')\n",
    "        stDev_image = stats1.get('stdDev')\n",
    "        IDW_image = imageSample.inverseDistance(**{\n",
    "                'range': 1e4,\\\n",
    "                'propertyName': 'et',\\\n",
    "                'mean': mean_image,\\\n",
    "                'stdDev': stDev_image,\\\n",
    "                'gamma': 0.3\n",
    "            })\n",
    "        return image.unmask(IDW_image).copyProperties(image, ['system:time_start'])\n",
    "    \n",
    "    interpolatedImage = ee.Algorithms.If(\n",
    "        isNotEmpty,\n",
    "        stats(imageSample.reduceColumns(**{\\\n",
    "            'reducer': ee.Reducer.mean(),\\\n",
    "            'selectors': [\"et\"]\n",
    "        }).combine(\n",
    "            imageSample.reduceColumns(**{\\\n",
    "                'reducer': ee.Reducer.stdDev(),\\\n",
    "                'selectors': [\"et\"]\n",
    "            }),\n",
    "            False\n",
    "        )),\n",
    "        image1.copyProperties(image, ['system:time_start'])\n",
    "    )\n",
    "    \n",
    "    return ee.Image(interpolatedImage)\n",
    "\n",
    "# Function to add feature (lat/long) in feature collection to export data in csv format\n",
    "def addGeom2Property(feature):\n",
    "    coordinates =ee.Feature(feature).geometry().coordinates()\n",
    "    long = coordinates.get(0)\n",
    "    lat  = coordinates.get(1)\n",
    "    return feature.set({'long':long,'lat':lat})"
   ]
  },
  {
   "cell_type": "code",
   "execution_count": 4,
   "id": "05552ca4",
   "metadata": {},
   "outputs": [],
   "source": [
    "# select band \"et\" which ET data from image collections\n",
    "et = ET.select('et')\n",
    "\n",
    "# filter the ET data based on the specific rows and path \n",
    "filtered = et.filter(ee.Filter.And(\\\n",
    "        ee.Filter.eq('wrs2_path',28),\\\n",
    "        ee.Filter.eq('wrs2_row',31)))\n",
    "\n",
    "# select the image collection with cloud cover less than 10%\n",
    "filtered_control = filtered.filter(\\\n",
    "          ee.Filter.lte('CLOUD_COVER',10))\n",
    "\n",
    "# select the image collection with cloud cover greater than 10%          \n",
    "filtered = filtered.filter(ee.Filter.gt('CLOUD_COVER',10))\n",
    "\n",
    "# creating image with constant value 1 for the pixels, cliped for synthetic cloud and create the masking for the sythetic cloud\n",
    "masking = ee.Image.constant(1).clip(area2mask).mask().Not()\n",
    "\n",
    "# combine the synthetic cloud with the original image and create the image collections with synthetic cloud\n",
    "filtered_control1 = filtered_control.map(artificial_cloud_image)\n"
   ]
  },
  {
   "cell_type": "code",
   "execution_count": 5,
   "id": "6748a7ac",
   "metadata": {},
   "outputs": [
    {
     "name": "stdout",
     "output_type": "stream",
     "text": [
      "122\n"
     ]
    }
   ],
   "source": [
    "# Image collections applying interpolation function to interpolate value in synthetic cloud based on the surrounding pixels with known values\n",
    "interpolatedCol = ee.ImageCollection(filtered_control1.map(interpolation))\n",
    "print(interpolatedCol.size().getInfo())"
   ]
  },
  {
   "cell_type": "code",
   "execution_count": 6,
   "id": "91819cd4",
   "metadata": {},
   "outputs": [
    {
     "name": "stdout",
     "output_type": "stream",
     "text": [
      "122\n"
     ]
    }
   ],
   "source": [
    "# Create the list of intepolated (filled) images and original image (control) preparing to export from GEE\n",
    "size = ee.ImageCollection(interpolatedCol).size().getInfo()\n",
    "filledList = ee.ImageCollection(interpolatedCol).toList(size)\n",
    "controlList = ee.ImageCollection(filtered_control).toList(size)\n",
    "print(size)"
   ]
  },
  {
   "cell_type": "markdown",
   "id": "b2bf4c1f-8f89-4fc4-90ce-85bbf5ba4de2",
   "metadata": {},
   "source": [
    "Exporting filled/interpolated image data in csv format with x,y coordinates and ET value for the co-ordinates"
   ]
  },
  {
   "cell_type": "code",
   "execution_count": 7,
   "id": "8cf0fd75",
   "metadata": {},
   "outputs": [
    {
     "name": "stdout",
     "output_type": "stream",
     "text": [
      "kk\n"
     ]
    }
   ],
   "source": [
    "for i in range(0,size):\n",
    "    if(i == size-1):\n",
    "        print('kk')\n",
    "    img = ee.Image(filledList.get(i))\n",
    "    outName = (img.id().getInfo()) + '_filled'\n",
    "    filled = img.multiply(0.0001)\n",
    "    sample  = filled.sample(**{\n",
    "        'region':area2mask,\\\n",
    "        'scale':30,\\\n",
    "        'geometries':True})\n",
    "     \n",
    "    sample = sample.map(addGeom2Property)\n",
    "    task_config = {\n",
    "        'fileNamePrefix': outName,\n",
    "        'fileFormat': 'CSV',\n",
    "        'selectors': ['lat','long','et'],\n",
    "        'folder': 'Output_IDW'\n",
    "    }\n",
    "    task = ee.batch.Export.table.toDrive(sample, outName, **task_config)\n",
    "    task.start()"
   ]
  },
  {
   "cell_type": "markdown",
   "id": "12f883a1-b73b-4152-b34b-00069408bc16",
   "metadata": {},
   "source": [
    "Exporting control/original image in csv format with x,y coordinates and ET value for the co-ordinates"
   ]
  },
  {
   "cell_type": "code",
   "execution_count": 9,
   "id": "931eb91e",
   "metadata": {},
   "outputs": [],
   "source": [
    "for i in range(0,size):\n",
    "    img = ee.Image(controlList.get(i))\n",
    "    outName = (img.id().getInfo()) + '_control'\n",
    "    control = img.multiply(0.0001)\n",
    "    sample  = control.sample(**{\n",
    "        'region':area2mask,\\\n",
    "        'scale':30,\\\n",
    "        'geometries':True})\n",
    "     \n",
    "    sample = sample.map(addGeom2Property)\n",
    "    task_config = {\n",
    "        'fileNamePrefix': outName,\n",
    "        'fileFormat': 'CSV',\n",
    "        'selectors': ['lat','long','et'],\n",
    "        'folder': 'Output_IDW'\n",
    "    }\n",
    "    task = ee.batch.Export.table.toDrive(sample, outName, **task_config)\n",
    "    task.start()"
   ]
  },
  {
   "cell_type": "code",
   "execution_count": null,
   "id": "a6f03302-b423-458b-a1d5-21327b36df18",
   "metadata": {},
   "outputs": [],
   "source": []
  }
 ],
 "metadata": {
  "kernelspec": {
   "display_name": "Python 3 (ipykernel)",
   "language": "python",
   "name": "python3"
  },
  "language_info": {
   "codemirror_mode": {
    "name": "ipython",
    "version": 3
   },
   "file_extension": ".py",
   "mimetype": "text/x-python",
   "name": "python",
   "nbconvert_exporter": "python",
   "pygments_lexer": "ipython3",
   "version": "3.12.7"
  }
 },
 "nbformat": 4,
 "nbformat_minor": 5
}
