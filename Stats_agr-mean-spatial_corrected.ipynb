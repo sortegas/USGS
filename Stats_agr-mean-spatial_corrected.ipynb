{
 "cells": [
  {
   "cell_type": "markdown",
   "id": "40111aee-54cc-49e1-9f26-0c47599c2ff3",
   "metadata": {},
   "source": [
    "# Statistical analysis for evauation of interpolation algorithms"
   ]
  },
  {
   "cell_type": "code",
   "execution_count": 1,
   "id": "48337d40",
   "metadata": {},
   "outputs": [],
   "source": [
    "# import necessary libraries\n",
    "import pandas as pd\n",
    "import os\n",
    "import re"
   ]
  },
  {
   "cell_type": "code",
   "execution_count": 2,
   "id": "8f294185",
   "metadata": {},
   "outputs": [
    {
     "name": "stdout",
     "output_type": "stream",
     "text": [
      "C:\\Users\\schaulagain4\\Desktop\\GitHubCodes\\GitHubCodes\\Spatial_IDW_Location1_TestArea3\n"
     ]
    }
   ],
   "source": [
    "# Get the current directory folder to read the files from current directory folder\n",
    "CWD = os.getcwd()\n",
    "input_folder = os.path.join(CWD,'Spatial_IDW_Location1_TestArea3') # put your folder name where interpolation output data is stored in place of \"interpolation\"\n",
    "print(input_folder)"
   ]
  },
  {
   "cell_type": "code",
   "execution_count": 3,
   "id": "a05e0c61",
   "metadata": {},
   "outputs": [],
   "source": [
    "files = os.listdir(input_folder)"
   ]
  },
  {
   "cell_type": "code",
   "execution_count": 4,
   "id": "437c936e",
   "metadata": {},
   "outputs": [
    {
     "name": "stderr",
     "output_type": "stream",
     "text": [
      "<>:3: SyntaxWarning: invalid escape sequence '\\d'\n",
      "<>:3: SyntaxWarning: invalid escape sequence '\\d'\n",
      "C:\\Users\\schaulagain4\\AppData\\Local\\Temp\\ipykernel_23152\\4074024355.py:3: SyntaxWarning: invalid escape sequence '\\d'\n",
      "  listFilesGrowing = [f for f in files if(re.search('^2_l[c|e]0[7|8|9]_\\d{6}_\\d{4}0[6|7|8]',f) and f.endswith('_filled.csv'))]\n"
     ]
    }
   ],
   "source": [
    "listFiles = [f for f in files if f.endswith('_filled.csv')]\n",
    "# list the files for growing season\n",
    "listFilesGrowing = [f for f in files if(re.search('^2_l[c|e]0[7|8|9]_\\d{6}_\\d{4}0[6|7|8]',f) and f.endswith('_filled.csv'))]"
   ]
  },
  {
   "cell_type": "code",
   "execution_count": 5,
   "id": "61b5cf57",
   "metadata": {},
   "outputs": [
    {
     "name": "stdout",
     "output_type": "stream",
     "text": [
      "122\n"
     ]
    }
   ],
   "source": [
    "#print(listFiles)\n",
    "print(len(listFiles))"
   ]
  },
  {
   "cell_type": "code",
   "execution_count": 6,
   "id": "b3560624",
   "metadata": {},
   "outputs": [],
   "source": [
    "list_difference =[]\n",
    "df = pd.DataFrame(columns=['et_x', 'et_y'])\n",
    "df_growing= pd.DataFrame(columns=['et_x', 'et_y'])\n",
    "\n",
    "means = pd.DataFrame(columns=['date','et_x','et_y'])\n",
    "means_growing = pd.DataFrame(columns=['date','et_x','et_y'])\n",
    "# temporal = pd.DataFrame(columns=['date','et_x','et_y'])\n",
    "list_growing = []\n",
    "list_difference_mean =[]"
   ]
  },
  {
   "cell_type": "code",
   "execution_count": 7,
   "id": "a07ebd4f",
   "metadata": {},
   "outputs": [
    {
     "name": "stderr",
     "output_type": "stream",
     "text": [
      "C:\\Users\\schaulagain4\\AppData\\Local\\Temp\\ipykernel_23152\\3320408880.py:18: FutureWarning: The behavior of DataFrame concatenation with empty or all-NA entries is deprecated. In a future version, this will no longer exclude empty or all-NA columns when determining the result dtypes. To retain the old behavior, exclude the relevant entries before the concat operation.\n",
      "  means = pd.concat([means[['et_x','et_y']],temporal])\n",
      "C:\\Users\\schaulagain4\\AppData\\Local\\Temp\\ipykernel_23152\\3320408880.py:20: FutureWarning: The behavior of DataFrame concatenation with empty or all-NA entries is deprecated. In a future version, this will no longer exclude empty or all-NA columns when determining the result dtypes. To retain the old behavior, exclude the relevant entries before the concat operation.\n",
      "  means_growing = pd.concat([means_growing[['et_x','et_y']],temporal])\n",
      "C:\\Users\\schaulagain4\\AppData\\Local\\Temp\\ipykernel_23152\\3320408880.py:29: FutureWarning: The behavior of DataFrame concatenation with empty or all-NA entries is deprecated. In a future version, this will no longer exclude empty or all-NA columns when determining the result dtypes. To retain the old behavior, exclude the relevant entries before the concat operation.\n",
      "  df = pd.concat([df[['et_x','et_y']],merged_df[['et_x','et_y']]])\n",
      "C:\\Users\\schaulagain4\\AppData\\Local\\Temp\\ipykernel_23152\\3320408880.py:29: FutureWarning: The behavior of DataFrame concatenation with empty or all-NA entries is deprecated. In a future version, this will no longer exclude empty or all-NA columns when determining the result dtypes. To retain the old behavior, exclude the relevant entries before the concat operation.\n",
      "  df = pd.concat([df[['et_x','et_y']],merged_df[['et_x','et_y']]])\n",
      "C:\\Users\\schaulagain4\\AppData\\Local\\Temp\\ipykernel_23152\\3320408880.py:29: FutureWarning: The behavior of DataFrame concatenation with empty or all-NA entries is deprecated. In a future version, this will no longer exclude empty or all-NA columns when determining the result dtypes. To retain the old behavior, exclude the relevant entries before the concat operation.\n",
      "  df = pd.concat([df[['et_x','et_y']],merged_df[['et_x','et_y']]])\n"
     ]
    },
    {
     "name": "stdout",
     "output_type": "stream",
     "text": [
      "       et_x      et_y\n",
      "0  0.477314  0.588869\n",
      "[-0.016235956350010294, -0.022702551902681556, -0.06697273628128253, -0.024604000614367294, -0.01662099511556922, 0.03524593026105721, 0.021116659144348515, 0.007839704944791415, 0.0012410924109769184, -0.012552852488813993, -0.0012972395863751762, 0.002432223988438398, 0.02360495522632111, 0.015495421913929122, 0.0015160544360278277, -0.01536254399804772, 0.02940195074534624, 0.011450319619062566, 0.0017315397013319966, -0.019190756394308978, 0.009728063560491584, nan, -0.019686574783705335, -0.0077182556199201224, -0.013922656854785276, -0.007028801946137642, 0.006390345132343461, 0.0006818689038074581, -0.0007721298934301249, -0.022489270157465824, -0.010055296598306396, -0.03807488014327487, -0.00912854113318684, 0.01024080223974004, 0.0006105581923915816, -0.026150771724890526, 0.015495561996495377, -0.015764009407119306, -0.019235370524459783, -0.011957794036265623, -0.0012241164678943664, -0.009875787326123722, 0.007059012329408004, 0.017825904923201963, -0.04462761323299491, -0.008464446195338704, -0.025823064838322085, -0.04759772954486041, -0.009311125888965183, 0.002771353032907432, -0.0005221643527064807, -0.018817591773258036, -0.013376915929036115, -0.0176988142771608, -0.0388176660425813, 0.16572414341887423, 0.014447964109971123, 0.0026012775673801836, 0.019388439619464515, 0.03850105328898096, -0.010096273888949958, 0.013690809819938449, 0.024037300922756966, 0.0037659407038674875, -0.019473370493704678, -0.054236085448448934, -0.015655589225451072, -0.004313961924512, 0.05384340407466784, -0.016116994815122077, -0.0012681300295263598, -0.00795581932380271, 0.007628048997440795, -0.002115103529524043, 0.046702204040819595, -0.01781364904264493, -0.026742926788291044, -0.018494210323547144, -0.003211940211316211, -0.01817518310238808, -0.0014385064332567699, -0.015226877842354769, -0.1992806907362461, -0.10219157908103532, 0.026028189440221006, nan, 0.04296716768777334, -0.005704583258024254, 0.013421832041635662, -0.0018951823848991688, -0.00033370832014245275, 0.011050923965685203, 0.003452144709708893, -0.020375336567541757, -0.017630830262213015, -0.015205052504973199, 0.011442614779130118, 0.0018447476952602945, 0.00014311104065905047, -0.0008846032942044779, 0.005672319418363936, 0.0026405288640543173, -0.008673073939136963, -0.0118712158274029, 0.059412781255537644, -0.07237437181090423, -0.4952335934534201, -0.0698434018215171, -0.08881959141255949, -0.06447606624972319, 0.26317795487327456, -0.1225383495286296, 0.455559773526343, -0.11155495471766491]\n",
      "       et_x      et_y\n",
      "0  0.556958  0.480813\n",
      "[-0.016235956350010294, -0.022702551902681556, -0.06697273628128253, -0.024604000614367294, -0.01662099511556922, 0.03524593026105721, 0.021116659144348515, 0.007839704944791415, 0.0012410924109769184, -0.012552852488813993, -0.0012972395863751762, 0.002432223988438398, 0.02360495522632111, 0.015495421913929122, 0.0015160544360278277, -0.01536254399804772, 0.02940195074534624, 0.011450319619062566, 0.0017315397013319966, -0.019190756394308978, 0.009728063560491584, nan, -0.019686574783705335, -0.0077182556199201224, -0.013922656854785276, -0.007028801946137642, 0.006390345132343461, 0.0006818689038074581, -0.0007721298934301249, -0.022489270157465824, -0.010055296598306396, -0.03807488014327487, -0.00912854113318684, 0.01024080223974004, 0.0006105581923915816, -0.026150771724890526, 0.015495561996495377, -0.015764009407119306, -0.019235370524459783, -0.011957794036265623, -0.0012241164678943664, -0.009875787326123722, 0.007059012329408004, 0.017825904923201963, -0.04462761323299491, -0.008464446195338704, -0.025823064838322085, -0.04759772954486041, -0.009311125888965183, 0.002771353032907432, -0.0005221643527064807, -0.018817591773258036, -0.013376915929036115, -0.0176988142771608, -0.0388176660425813, 0.16572414341887423, 0.014447964109971123, 0.0026012775673801836, 0.019388439619464515, 0.03850105328898096, -0.010096273888949958, 0.013690809819938449, 0.024037300922756966, 0.0037659407038674875, -0.019473370493704678, -0.054236085448448934, -0.015655589225451072, -0.004313961924512, 0.05384340407466784, -0.016116994815122077, -0.0012681300295263598, -0.00795581932380271, 0.007628048997440795, -0.002115103529524043, 0.046702204040819595, -0.01781364904264493, -0.026742926788291044, -0.018494210323547144, -0.003211940211316211, -0.01817518310238808, -0.0014385064332567699, -0.015226877842354769, -0.1992806907362461, -0.10219157908103532, 0.026028189440221006, nan, 0.04296716768777334, -0.005704583258024254, 0.013421832041635662, -0.0018951823848991688, -0.00033370832014245275, 0.011050923965685203, 0.003452144709708893, -0.020375336567541757, -0.017630830262213015, -0.015205052504973199, 0.011442614779130118, 0.0018447476952602945, 0.00014311104065905047, -0.0008846032942044779, 0.005672319418363936, 0.0026405288640543173, -0.008673073939136963, -0.0118712158274029, 0.059412781255537644, -0.07237437181090423, -0.4952335934534201, -0.0698434018215171, -0.08881959141255949, -0.06447606624972319, 0.26317795487327456, -0.1225383495286296, 0.455559773526343, -0.11155495471766491, 0.07614526060603]\n",
      "       et_x      et_y\n",
      "0  0.417691  0.565617\n",
      "[-0.016235956350010294, -0.022702551902681556, -0.06697273628128253, -0.024604000614367294, -0.01662099511556922, 0.03524593026105721, 0.021116659144348515, 0.007839704944791415, 0.0012410924109769184, -0.012552852488813993, -0.0012972395863751762, 0.002432223988438398, 0.02360495522632111, 0.015495421913929122, 0.0015160544360278277, -0.01536254399804772, 0.02940195074534624, 0.011450319619062566, 0.0017315397013319966, -0.019190756394308978, 0.009728063560491584, nan, -0.019686574783705335, -0.0077182556199201224, -0.013922656854785276, -0.007028801946137642, 0.006390345132343461, 0.0006818689038074581, -0.0007721298934301249, -0.022489270157465824, -0.010055296598306396, -0.03807488014327487, -0.00912854113318684, 0.01024080223974004, 0.0006105581923915816, -0.026150771724890526, 0.015495561996495377, -0.015764009407119306, -0.019235370524459783, -0.011957794036265623, -0.0012241164678943664, -0.009875787326123722, 0.007059012329408004, 0.017825904923201963, -0.04462761323299491, -0.008464446195338704, -0.025823064838322085, -0.04759772954486041, -0.009311125888965183, 0.002771353032907432, -0.0005221643527064807, -0.018817591773258036, -0.013376915929036115, -0.0176988142771608, -0.0388176660425813, 0.16572414341887423, 0.014447964109971123, 0.0026012775673801836, 0.019388439619464515, 0.03850105328898096, -0.010096273888949958, 0.013690809819938449, 0.024037300922756966, 0.0037659407038674875, -0.019473370493704678, -0.054236085448448934, -0.015655589225451072, -0.004313961924512, 0.05384340407466784, -0.016116994815122077, -0.0012681300295263598, -0.00795581932380271, 0.007628048997440795, -0.002115103529524043, 0.046702204040819595, -0.01781364904264493, -0.026742926788291044, -0.018494210323547144, -0.003211940211316211, -0.01817518310238808, -0.0014385064332567699, -0.015226877842354769, -0.1992806907362461, -0.10219157908103532, 0.026028189440221006, nan, 0.04296716768777334, -0.005704583258024254, 0.013421832041635662, -0.0018951823848991688, -0.00033370832014245275, 0.011050923965685203, 0.003452144709708893, -0.020375336567541757, -0.017630830262213015, -0.015205052504973199, 0.011442614779130118, 0.0018447476952602945, 0.00014311104065905047, -0.0008846032942044779, 0.005672319418363936, 0.0026405288640543173, -0.008673073939136963, -0.0118712158274029, 0.059412781255537644, -0.07237437181090423, -0.4952335934534201, -0.0698434018215171, -0.08881959141255949, -0.06447606624972319, 0.26317795487327456, -0.1225383495286296, 0.455559773526343, -0.11155495471766491, 0.07614526060603, -0.147925749197318]\n",
      "       et_x      et_y\n",
      "0  0.140891  0.437701\n",
      "[-0.016235956350010294, -0.022702551902681556, -0.06697273628128253, -0.024604000614367294, -0.01662099511556922, 0.03524593026105721, 0.021116659144348515, 0.007839704944791415, 0.0012410924109769184, -0.012552852488813993, -0.0012972395863751762, 0.002432223988438398, 0.02360495522632111, 0.015495421913929122, 0.0015160544360278277, -0.01536254399804772, 0.02940195074534624, 0.011450319619062566, 0.0017315397013319966, -0.019190756394308978, 0.009728063560491584, nan, -0.019686574783705335, -0.0077182556199201224, -0.013922656854785276, -0.007028801946137642, 0.006390345132343461, 0.0006818689038074581, -0.0007721298934301249, -0.022489270157465824, -0.010055296598306396, -0.03807488014327487, -0.00912854113318684, 0.01024080223974004, 0.0006105581923915816, -0.026150771724890526, 0.015495561996495377, -0.015764009407119306, -0.019235370524459783, -0.011957794036265623, -0.0012241164678943664, -0.009875787326123722, 0.007059012329408004, 0.017825904923201963, -0.04462761323299491, -0.008464446195338704, -0.025823064838322085, -0.04759772954486041, -0.009311125888965183, 0.002771353032907432, -0.0005221643527064807, -0.018817591773258036, -0.013376915929036115, -0.0176988142771608, -0.0388176660425813, 0.16572414341887423, 0.014447964109971123, 0.0026012775673801836, 0.019388439619464515, 0.03850105328898096, -0.010096273888949958, 0.013690809819938449, 0.024037300922756966, 0.0037659407038674875, -0.019473370493704678, -0.054236085448448934, -0.015655589225451072, -0.004313961924512, 0.05384340407466784, -0.016116994815122077, -0.0012681300295263598, -0.00795581932380271, 0.007628048997440795, -0.002115103529524043, 0.046702204040819595, -0.01781364904264493, -0.026742926788291044, -0.018494210323547144, -0.003211940211316211, -0.01817518310238808, -0.0014385064332567699, -0.015226877842354769, -0.1992806907362461, -0.10219157908103532, 0.026028189440221006, nan, 0.04296716768777334, -0.005704583258024254, 0.013421832041635662, -0.0018951823848991688, -0.00033370832014245275, 0.011050923965685203, 0.003452144709708893, -0.020375336567541757, -0.017630830262213015, -0.015205052504973199, 0.011442614779130118, 0.0018447476952602945, 0.00014311104065905047, -0.0008846032942044779, 0.005672319418363936, 0.0026405288640543173, -0.008673073939136963, -0.0118712158274029, 0.059412781255537644, -0.07237437181090423, -0.4952335934534201, -0.0698434018215171, -0.08881959141255949, -0.06447606624972319, 0.26317795487327456, -0.1225383495286296, 0.455559773526343, -0.11155495471766491, 0.07614526060603, -0.147925749197318, -0.296809811914375]\n"
     ]
    },
    {
     "ename": "FileNotFoundError",
     "evalue": "[Errno 2] No such file or directory: 'C:\\\\Users\\\\SamuelOrtega\\\\Documents\\\\interpolation\\\\agr_pixel_spatial_standard_size-20241108T040623Z-001\\\\agr_pixel_spatial_standard_size\\\\le07_028031_20211108_control.csv'",
     "output_type": "error",
     "traceback": [
      "\u001b[1;31m---------------------------------------------------------------------------\u001b[0m",
      "\u001b[1;31mFileNotFoundError\u001b[0m                         Traceback (most recent call last)",
      "\u001b[1;32m~\\AppData\\Local\\Temp\\ipykernel_7352\\1711194540.py\u001b[0m in \u001b[0;36m<module>\u001b[1;34m\u001b[0m\n\u001b[0;32m      5\u001b[0m     \u001b[0mfile_filled\u001b[0m \u001b[1;33m=\u001b[0m \u001b[0mos\u001b[0m\u001b[1;33m.\u001b[0m\u001b[0mpath\u001b[0m\u001b[1;33m.\u001b[0m\u001b[0mjoin\u001b[0m\u001b[1;33m(\u001b[0m\u001b[0minput_folder\u001b[0m\u001b[1;33m,\u001b[0m\u001b[0mfid_filled\u001b[0m\u001b[1;33m)\u001b[0m\u001b[1;33m\u001b[0m\u001b[1;33m\u001b[0m\u001b[0m\n\u001b[0;32m      6\u001b[0m     \u001b[0mfile_control\u001b[0m \u001b[1;33m=\u001b[0m \u001b[0mos\u001b[0m\u001b[1;33m.\u001b[0m\u001b[0mpath\u001b[0m\u001b[1;33m.\u001b[0m\u001b[0mjoin\u001b[0m\u001b[1;33m(\u001b[0m\u001b[0minput_folder\u001b[0m\u001b[1;33m,\u001b[0m\u001b[0mcontrol\u001b[0m\u001b[1;33m)\u001b[0m\u001b[1;33m\u001b[0m\u001b[1;33m\u001b[0m\u001b[0m\n\u001b[1;32m----> 7\u001b[1;33m     \u001b[0mcontrol_df\u001b[0m \u001b[1;33m=\u001b[0m \u001b[0mpd\u001b[0m\u001b[1;33m.\u001b[0m\u001b[0mread_csv\u001b[0m\u001b[1;33m(\u001b[0m\u001b[0mfile_control\u001b[0m\u001b[1;33m)\u001b[0m\u001b[1;33m\u001b[0m\u001b[1;33m\u001b[0m\u001b[0m\n\u001b[0m\u001b[0;32m      8\u001b[0m     \u001b[0mfilled_df\u001b[0m \u001b[1;33m=\u001b[0m \u001b[0mpd\u001b[0m\u001b[1;33m.\u001b[0m\u001b[0mread_csv\u001b[0m\u001b[1;33m(\u001b[0m\u001b[0mfile_filled\u001b[0m\u001b[1;33m)\u001b[0m\u001b[1;33m\u001b[0m\u001b[1;33m\u001b[0m\u001b[0m\n\u001b[0;32m      9\u001b[0m     \u001b[0mmerged_df\u001b[0m \u001b[1;33m=\u001b[0m \u001b[0mpd\u001b[0m\u001b[1;33m.\u001b[0m\u001b[0mmerge\u001b[0m\u001b[1;33m(\u001b[0m\u001b[0mcontrol_df\u001b[0m\u001b[1;33m,\u001b[0m \u001b[0mfilled_df\u001b[0m\u001b[1;33m,\u001b[0m \u001b[0mon\u001b[0m\u001b[1;33m=\u001b[0m\u001b[1;33m[\u001b[0m\u001b[1;34m'lat'\u001b[0m\u001b[1;33m,\u001b[0m \u001b[1;34m'long'\u001b[0m\u001b[1;33m]\u001b[0m\u001b[1;33m,\u001b[0m \u001b[0mhow\u001b[0m\u001b[1;33m=\u001b[0m\u001b[1;34m'inner'\u001b[0m\u001b[1;33m)\u001b[0m\u001b[1;33m\u001b[0m\u001b[1;33m\u001b[0m\u001b[0m\n",
      "\u001b[1;32m~\\anaconda3\\envs\\GEE37\\lib\\site-packages\\pandas\\util\\_decorators.py\u001b[0m in \u001b[0;36mwrapper\u001b[1;34m(*args, **kwargs)\u001b[0m\n\u001b[0;32m    309\u001b[0m                     \u001b[0mstacklevel\u001b[0m\u001b[1;33m=\u001b[0m\u001b[0mstacklevel\u001b[0m\u001b[1;33m,\u001b[0m\u001b[1;33m\u001b[0m\u001b[1;33m\u001b[0m\u001b[0m\n\u001b[0;32m    310\u001b[0m                 )\n\u001b[1;32m--> 311\u001b[1;33m             \u001b[1;32mreturn\u001b[0m \u001b[0mfunc\u001b[0m\u001b[1;33m(\u001b[0m\u001b[1;33m*\u001b[0m\u001b[0margs\u001b[0m\u001b[1;33m,\u001b[0m \u001b[1;33m**\u001b[0m\u001b[0mkwargs\u001b[0m\u001b[1;33m)\u001b[0m\u001b[1;33m\u001b[0m\u001b[1;33m\u001b[0m\u001b[0m\n\u001b[0m\u001b[0;32m    312\u001b[0m \u001b[1;33m\u001b[0m\u001b[0m\n\u001b[0;32m    313\u001b[0m         \u001b[1;32mreturn\u001b[0m \u001b[0mwrapper\u001b[0m\u001b[1;33m\u001b[0m\u001b[1;33m\u001b[0m\u001b[0m\n",
      "\u001b[1;32m~\\anaconda3\\envs\\GEE37\\lib\\site-packages\\pandas\\io\\parsers\\readers.py\u001b[0m in \u001b[0;36mread_csv\u001b[1;34m(filepath_or_buffer, sep, delimiter, header, names, index_col, usecols, squeeze, prefix, mangle_dupe_cols, dtype, engine, converters, true_values, false_values, skipinitialspace, skiprows, skipfooter, nrows, na_values, keep_default_na, na_filter, verbose, skip_blank_lines, parse_dates, infer_datetime_format, keep_date_col, date_parser, dayfirst, cache_dates, iterator, chunksize, compression, thousands, decimal, lineterminator, quotechar, quoting, doublequote, escapechar, comment, encoding, encoding_errors, dialect, error_bad_lines, warn_bad_lines, on_bad_lines, delim_whitespace, low_memory, memory_map, float_precision, storage_options)\u001b[0m\n\u001b[0;32m    584\u001b[0m     \u001b[0mkwds\u001b[0m\u001b[1;33m.\u001b[0m\u001b[0mupdate\u001b[0m\u001b[1;33m(\u001b[0m\u001b[0mkwds_defaults\u001b[0m\u001b[1;33m)\u001b[0m\u001b[1;33m\u001b[0m\u001b[1;33m\u001b[0m\u001b[0m\n\u001b[0;32m    585\u001b[0m \u001b[1;33m\u001b[0m\u001b[0m\n\u001b[1;32m--> 586\u001b[1;33m     \u001b[1;32mreturn\u001b[0m \u001b[0m_read\u001b[0m\u001b[1;33m(\u001b[0m\u001b[0mfilepath_or_buffer\u001b[0m\u001b[1;33m,\u001b[0m \u001b[0mkwds\u001b[0m\u001b[1;33m)\u001b[0m\u001b[1;33m\u001b[0m\u001b[1;33m\u001b[0m\u001b[0m\n\u001b[0m\u001b[0;32m    587\u001b[0m \u001b[1;33m\u001b[0m\u001b[0m\n\u001b[0;32m    588\u001b[0m \u001b[1;33m\u001b[0m\u001b[0m\n",
      "\u001b[1;32m~\\anaconda3\\envs\\GEE37\\lib\\site-packages\\pandas\\io\\parsers\\readers.py\u001b[0m in \u001b[0;36m_read\u001b[1;34m(filepath_or_buffer, kwds)\u001b[0m\n\u001b[0;32m    480\u001b[0m \u001b[1;33m\u001b[0m\u001b[0m\n\u001b[0;32m    481\u001b[0m     \u001b[1;31m# Create the parser.\u001b[0m\u001b[1;33m\u001b[0m\u001b[1;33m\u001b[0m\u001b[1;33m\u001b[0m\u001b[0m\n\u001b[1;32m--> 482\u001b[1;33m     \u001b[0mparser\u001b[0m \u001b[1;33m=\u001b[0m \u001b[0mTextFileReader\u001b[0m\u001b[1;33m(\u001b[0m\u001b[0mfilepath_or_buffer\u001b[0m\u001b[1;33m,\u001b[0m \u001b[1;33m**\u001b[0m\u001b[0mkwds\u001b[0m\u001b[1;33m)\u001b[0m\u001b[1;33m\u001b[0m\u001b[1;33m\u001b[0m\u001b[0m\n\u001b[0m\u001b[0;32m    483\u001b[0m \u001b[1;33m\u001b[0m\u001b[0m\n\u001b[0;32m    484\u001b[0m     \u001b[1;32mif\u001b[0m \u001b[0mchunksize\u001b[0m \u001b[1;32mor\u001b[0m \u001b[0miterator\u001b[0m\u001b[1;33m:\u001b[0m\u001b[1;33m\u001b[0m\u001b[1;33m\u001b[0m\u001b[0m\n",
      "\u001b[1;32m~\\anaconda3\\envs\\GEE37\\lib\\site-packages\\pandas\\io\\parsers\\readers.py\u001b[0m in \u001b[0;36m__init__\u001b[1;34m(self, f, engine, **kwds)\u001b[0m\n\u001b[0;32m    809\u001b[0m             \u001b[0mself\u001b[0m\u001b[1;33m.\u001b[0m\u001b[0moptions\u001b[0m\u001b[1;33m[\u001b[0m\u001b[1;34m\"has_index_names\"\u001b[0m\u001b[1;33m]\u001b[0m \u001b[1;33m=\u001b[0m \u001b[0mkwds\u001b[0m\u001b[1;33m[\u001b[0m\u001b[1;34m\"has_index_names\"\u001b[0m\u001b[1;33m]\u001b[0m\u001b[1;33m\u001b[0m\u001b[1;33m\u001b[0m\u001b[0m\n\u001b[0;32m    810\u001b[0m \u001b[1;33m\u001b[0m\u001b[0m\n\u001b[1;32m--> 811\u001b[1;33m         \u001b[0mself\u001b[0m\u001b[1;33m.\u001b[0m\u001b[0m_engine\u001b[0m \u001b[1;33m=\u001b[0m \u001b[0mself\u001b[0m\u001b[1;33m.\u001b[0m\u001b[0m_make_engine\u001b[0m\u001b[1;33m(\u001b[0m\u001b[0mself\u001b[0m\u001b[1;33m.\u001b[0m\u001b[0mengine\u001b[0m\u001b[1;33m)\u001b[0m\u001b[1;33m\u001b[0m\u001b[1;33m\u001b[0m\u001b[0m\n\u001b[0m\u001b[0;32m    812\u001b[0m \u001b[1;33m\u001b[0m\u001b[0m\n\u001b[0;32m    813\u001b[0m     \u001b[1;32mdef\u001b[0m \u001b[0mclose\u001b[0m\u001b[1;33m(\u001b[0m\u001b[0mself\u001b[0m\u001b[1;33m)\u001b[0m\u001b[1;33m:\u001b[0m\u001b[1;33m\u001b[0m\u001b[1;33m\u001b[0m\u001b[0m\n",
      "\u001b[1;32m~\\anaconda3\\envs\\GEE37\\lib\\site-packages\\pandas\\io\\parsers\\readers.py\u001b[0m in \u001b[0;36m_make_engine\u001b[1;34m(self, engine)\u001b[0m\n\u001b[0;32m   1038\u001b[0m             )\n\u001b[0;32m   1039\u001b[0m         \u001b[1;31m# error: Too many arguments for \"ParserBase\"\u001b[0m\u001b[1;33m\u001b[0m\u001b[1;33m\u001b[0m\u001b[1;33m\u001b[0m\u001b[0m\n\u001b[1;32m-> 1040\u001b[1;33m         \u001b[1;32mreturn\u001b[0m \u001b[0mmapping\u001b[0m\u001b[1;33m[\u001b[0m\u001b[0mengine\u001b[0m\u001b[1;33m]\u001b[0m\u001b[1;33m(\u001b[0m\u001b[0mself\u001b[0m\u001b[1;33m.\u001b[0m\u001b[0mf\u001b[0m\u001b[1;33m,\u001b[0m \u001b[1;33m**\u001b[0m\u001b[0mself\u001b[0m\u001b[1;33m.\u001b[0m\u001b[0moptions\u001b[0m\u001b[1;33m)\u001b[0m  \u001b[1;31m# type: ignore[call-arg]\u001b[0m\u001b[1;33m\u001b[0m\u001b[1;33m\u001b[0m\u001b[0m\n\u001b[0m\u001b[0;32m   1041\u001b[0m \u001b[1;33m\u001b[0m\u001b[0m\n\u001b[0;32m   1042\u001b[0m     \u001b[1;32mdef\u001b[0m \u001b[0m_failover_to_python\u001b[0m\u001b[1;33m(\u001b[0m\u001b[0mself\u001b[0m\u001b[1;33m)\u001b[0m\u001b[1;33m:\u001b[0m\u001b[1;33m\u001b[0m\u001b[1;33m\u001b[0m\u001b[0m\n",
      "\u001b[1;32m~\\anaconda3\\envs\\GEE37\\lib\\site-packages\\pandas\\io\\parsers\\c_parser_wrapper.py\u001b[0m in \u001b[0;36m__init__\u001b[1;34m(self, src, **kwds)\u001b[0m\n\u001b[0;32m     49\u001b[0m \u001b[1;33m\u001b[0m\u001b[0m\n\u001b[0;32m     50\u001b[0m         \u001b[1;31m# open handles\u001b[0m\u001b[1;33m\u001b[0m\u001b[1;33m\u001b[0m\u001b[1;33m\u001b[0m\u001b[0m\n\u001b[1;32m---> 51\u001b[1;33m         \u001b[0mself\u001b[0m\u001b[1;33m.\u001b[0m\u001b[0m_open_handles\u001b[0m\u001b[1;33m(\u001b[0m\u001b[0msrc\u001b[0m\u001b[1;33m,\u001b[0m \u001b[0mkwds\u001b[0m\u001b[1;33m)\u001b[0m\u001b[1;33m\u001b[0m\u001b[1;33m\u001b[0m\u001b[0m\n\u001b[0m\u001b[0;32m     52\u001b[0m         \u001b[1;32massert\u001b[0m \u001b[0mself\u001b[0m\u001b[1;33m.\u001b[0m\u001b[0mhandles\u001b[0m \u001b[1;32mis\u001b[0m \u001b[1;32mnot\u001b[0m \u001b[1;32mNone\u001b[0m\u001b[1;33m\u001b[0m\u001b[1;33m\u001b[0m\u001b[0m\n\u001b[0;32m     53\u001b[0m \u001b[1;33m\u001b[0m\u001b[0m\n",
      "\u001b[1;32m~\\anaconda3\\envs\\GEE37\\lib\\site-packages\\pandas\\io\\parsers\\base_parser.py\u001b[0m in \u001b[0;36m_open_handles\u001b[1;34m(self, src, kwds)\u001b[0m\n\u001b[0;32m    227\u001b[0m             \u001b[0mmemory_map\u001b[0m\u001b[1;33m=\u001b[0m\u001b[0mkwds\u001b[0m\u001b[1;33m.\u001b[0m\u001b[0mget\u001b[0m\u001b[1;33m(\u001b[0m\u001b[1;34m\"memory_map\"\u001b[0m\u001b[1;33m,\u001b[0m \u001b[1;32mFalse\u001b[0m\u001b[1;33m)\u001b[0m\u001b[1;33m,\u001b[0m\u001b[1;33m\u001b[0m\u001b[1;33m\u001b[0m\u001b[0m\n\u001b[0;32m    228\u001b[0m             \u001b[0mstorage_options\u001b[0m\u001b[1;33m=\u001b[0m\u001b[0mkwds\u001b[0m\u001b[1;33m.\u001b[0m\u001b[0mget\u001b[0m\u001b[1;33m(\u001b[0m\u001b[1;34m\"storage_options\"\u001b[0m\u001b[1;33m,\u001b[0m \u001b[1;32mNone\u001b[0m\u001b[1;33m)\u001b[0m\u001b[1;33m,\u001b[0m\u001b[1;33m\u001b[0m\u001b[1;33m\u001b[0m\u001b[0m\n\u001b[1;32m--> 229\u001b[1;33m             \u001b[0merrors\u001b[0m\u001b[1;33m=\u001b[0m\u001b[0mkwds\u001b[0m\u001b[1;33m.\u001b[0m\u001b[0mget\u001b[0m\u001b[1;33m(\u001b[0m\u001b[1;34m\"encoding_errors\"\u001b[0m\u001b[1;33m,\u001b[0m \u001b[1;34m\"strict\"\u001b[0m\u001b[1;33m)\u001b[0m\u001b[1;33m,\u001b[0m\u001b[1;33m\u001b[0m\u001b[1;33m\u001b[0m\u001b[0m\n\u001b[0m\u001b[0;32m    230\u001b[0m         )\n\u001b[0;32m    231\u001b[0m \u001b[1;33m\u001b[0m\u001b[0m\n",
      "\u001b[1;32m~\\anaconda3\\envs\\GEE37\\lib\\site-packages\\pandas\\io\\common.py\u001b[0m in \u001b[0;36mget_handle\u001b[1;34m(path_or_buf, mode, encoding, compression, memory_map, is_text, errors, storage_options)\u001b[0m\n\u001b[0;32m    705\u001b[0m                 \u001b[0mencoding\u001b[0m\u001b[1;33m=\u001b[0m\u001b[0mioargs\u001b[0m\u001b[1;33m.\u001b[0m\u001b[0mencoding\u001b[0m\u001b[1;33m,\u001b[0m\u001b[1;33m\u001b[0m\u001b[1;33m\u001b[0m\u001b[0m\n\u001b[0;32m    706\u001b[0m                 \u001b[0merrors\u001b[0m\u001b[1;33m=\u001b[0m\u001b[0merrors\u001b[0m\u001b[1;33m,\u001b[0m\u001b[1;33m\u001b[0m\u001b[1;33m\u001b[0m\u001b[0m\n\u001b[1;32m--> 707\u001b[1;33m                 \u001b[0mnewline\u001b[0m\u001b[1;33m=\u001b[0m\u001b[1;34m\"\"\u001b[0m\u001b[1;33m,\u001b[0m\u001b[1;33m\u001b[0m\u001b[1;33m\u001b[0m\u001b[0m\n\u001b[0m\u001b[0;32m    708\u001b[0m             )\n\u001b[0;32m    709\u001b[0m         \u001b[1;32melse\u001b[0m\u001b[1;33m:\u001b[0m\u001b[1;33m\u001b[0m\u001b[1;33m\u001b[0m\u001b[0m\n",
      "\u001b[1;31mFileNotFoundError\u001b[0m: [Errno 2] No such file or directory: 'C:\\\\Users\\\\SamuelOrtega\\\\Documents\\\\interpolation\\\\agr_pixel_spatial_standard_size-20241108T040623Z-001\\\\agr_pixel_spatial_standard_size\\\\le07_028031_20211108_control.csv'"
     ]
    }
   ],
   "source": [
    "# combing the data for filled and original original data for all time period\n",
    "for fid_filled in listFiles:\n",
    "#     print(((fid_filled.split('2_'))[1]))\n",
    "#     print(fid_filled)\n",
    "    control = (fid_filled).replace('_filled.csv','_control.csv')\n",
    "    file_filled = os.path.join(input_folder,fid_filled)\n",
    "    file_control = os.path.join(input_folder,control)\n",
    "    control_df = pd.read_csv(file_control)\n",
    "    filled_df = pd.read_csv(file_filled)\n",
    "    merged_df = pd.merge(control_df, filled_df, on=['lat', 'long'], how='inner')\n",
    "    \n",
    "    mean1 = merged_df.mean()\n",
    "    temporal = {'et_x': mean1.loc['et_x'],\n",
    "                'et_y': mean1.loc['et_y']}\n",
    "    \n",
    "    temporal = pd.DataFrame([temporal])\n",
    "    \n",
    "    means = pd.concat([means[['et_x','et_y']],temporal])\n",
    "    \n",
    "    means_growing = pd.concat([means_growing[['et_x','et_y']],temporal])\n",
    "    difference_mean = temporal['et_x']-temporal['et_y']\n",
    "    list_difference_mean.extend(difference_mean.tolist())\n",
    "    #print(temporal)\n",
    "    #print(list_difference_mean)\n",
    "    merged_df.mean()\n",
    "    \n",
    "    difference = merged_df['et_x']-merged_df['et_y']\n",
    "    list_difference.extend(difference.tolist())\n",
    "    df = pd.concat([df[['et_x','et_y']],merged_df[['et_x','et_y']]])"
   ]
  },
  {
   "cell_type": "code",
   "execution_count": 8,
   "id": "6f297cdf",
   "metadata": {},
   "outputs": [
    {
     "name": "stdout",
     "output_type": "stream",
     "text": [
      "         et_x      et_y\n",
      "0      0.6255  0.583176\n",
      "1      0.6481  0.604758\n",
      "2      0.6437  0.630572\n",
      "3      0.6419  0.657034\n",
      "4      0.6295  0.674974\n",
      "...       ...       ...\n",
      "11334  0.3377  0.135979\n",
      "11335  0.1856  0.134232\n",
      "11336  0.1409  0.187974\n",
      "11337  0.0654  0.219568\n",
      "11338  0.0148  0.211674\n",
      "\n",
      "[1266101 rows x 2 columns]\n",
      "et_x    0.000000e+00\n",
      "et_y    8.555983e-07\n",
      "dtype: float64\n",
      "et_x    3.2767\n",
      "et_y    1.3621\n",
      "dtype: float64\n"
     ]
    }
   ],
   "source": [
    "print(df)\n",
    "print(df.min())\n",
    "print(df.max())"
   ]
  },
  {
   "cell_type": "code",
   "execution_count": 9,
   "id": "36bf2f0f",
   "metadata": {},
   "outputs": [
    {
     "name": "stdout",
     "output_type": "stream",
     "text": [
      "1266101\n"
     ]
    }
   ],
   "source": [
    "import math\n",
    "n= len(list_difference)\n",
    "print(n)\n"
   ]
  },
  {
   "cell_type": "markdown",
   "id": "11c5389e-ab09-427b-be3c-0c43316d4b4a",
   "metadata": {},
   "source": [
    "Now calculating RMSE, MSE, NSE and coefficient of determination (R2). These values were compared based on the mean values obtained from the entire area and then compared with original data, and other approach is comparing pixels by pixels basis."
   ]
  },
  {
   "cell_type": "markdown",
   "id": "4f38b580-7db6-4a87-8b74-27c6de272e3c",
   "metadata": {},
   "source": [
    "# Calculate Root Mean Square Error (RMSE)"
   ]
  },
  {
   "cell_type": "code",
   "execution_count": 10,
   "id": "ed379861",
   "metadata": {},
   "outputs": [
    {
     "name": "stdout",
     "output_type": "stream",
     "text": [
      "RMSE, pixels by pixels comparison: 0.07997206866115666\n",
      "RMSE for mean of entire sythetic cloud: 0.023466371148480072\n"
     ]
    }
   ],
   "source": [
    "list_difference1 = [math.pow(i,2) for i in list_difference]\n",
    "sumValues = sum(list_difference1)\n",
    "RMSE = math.sqrt(sumValues/len(list_difference1))\n",
    "print(f\"RMSE, pixels by pixels comparison: {RMSE}\")\n",
    "\n",
    "list_difference2 = [math.pow(i,2) for i in list_difference_mean if not math.isnan(i)]\n",
    "\n",
    "sumValues1 = sum(list_difference2)\n",
    "# print(sumValues1)\n",
    "RMSE = math.sqrt(sumValues1/len(list_difference2))\n",
    "print(f\"RMSE for mean of entire sythetic cloud: {RMSE}\")"
   ]
  },
  {
   "cell_type": "markdown",
   "id": "d211622e-71db-427b-9027-ae171680ea31",
   "metadata": {},
   "source": [
    "# Calculate Mean Absolute Error (MSE)"
   ]
  },
  {
   "cell_type": "code",
   "execution_count": 11,
   "id": "b36da9a9",
   "metadata": {},
   "outputs": [
    {
     "name": "stdout",
     "output_type": "stream",
     "text": [
      "MSE, pixels by pixels comparison:0.05438200447815155\n",
      "MAE for mean of entire sythetic cloud: 0.01562718413319815\n"
     ]
    }
   ],
   "source": [
    "list_difference2 = [abs(i) for i in list_difference]\n",
    "sumValues = sum(list_difference2)\n",
    "MAE = sumValues/n\n",
    "print(f\"MSE, pixels by pixels comparison:{MAE}\")\n",
    "\n",
    "list_difference3 = [abs(i) for i in list_difference_mean if not math.isnan(i)]\n",
    "sumValues = sum(list_difference3)\n",
    "MAE = sumValues/len(list_difference3)\n",
    "print(f\"MAE for mean of entire sythetic cloud: {MAE}\")"
   ]
  },
  {
   "cell_type": "markdown",
   "id": "d7ad8a5a-3444-44ba-b294-be14c7839cae",
   "metadata": {},
   "source": [
    "# Calculate Nash–Sutcliffe model efficiency coefficient (NSE)"
   ]
  },
  {
   "cell_type": "code",
   "execution_count": 12,
   "id": "f55d9d59",
   "metadata": {},
   "outputs": [
    {
     "name": "stdout",
     "output_type": "stream",
     "text": [
      "0.33400256505889014\n",
      "NSE for mean of entire sythetic cloud: 0.9919410263888732\n"
     ]
    }
   ],
   "source": [
    "list_difference3 = [math.pow(i,2) for i in list_difference_mean if not math.isnan(i)]\n",
    "means_cleaned = means.dropna(how='any')\n",
    "means_means = means_cleaned.mean()\n",
    "print(means_means.loc['et_x'])\n",
    "#print(means_cleaned['et_x'])\n",
    "#print(means_cleaned['et_x'] - means_means.loc['et_x'])\n",
    "kk = means_cleaned['et_x'] - means_means.loc['et_x']\n",
    "kk = kk**2\n",
    "#print(kk.sum())\n",
    "#print(sum(list_difference3))\n",
    "\n",
    "NSE = 1 - ((sum(list_difference3))/kk.sum())\n",
    "#print(\"NSE\")\n",
    "print(f\"NSE for mean of entire sythetic cloud: {NSE}\")"
   ]
  },
  {
   "cell_type": "code",
   "execution_count": 13,
   "id": "63868444",
   "metadata": {},
   "outputs": [
    {
     "data": {
      "text/html": [
       "<div>\n",
       "<style scoped>\n",
       "    .dataframe tbody tr th:only-of-type {\n",
       "        vertical-align: middle;\n",
       "    }\n",
       "\n",
       "    .dataframe tbody tr th {\n",
       "        vertical-align: top;\n",
       "    }\n",
       "\n",
       "    .dataframe thead th {\n",
       "        text-align: right;\n",
       "    }\n",
       "</style>\n",
       "<table border=\"1\" class=\"dataframe\">\n",
       "  <thead>\n",
       "    <tr style=\"text-align: right;\">\n",
       "      <th></th>\n",
       "      <th>date</th>\n",
       "      <th>et_x</th>\n",
       "      <th>et_y</th>\n",
       "    </tr>\n",
       "  </thead>\n",
       "  <tbody>\n",
       "  </tbody>\n",
       "</table>\n",
       "</div>"
      ],
      "text/plain": [
       "Empty DataFrame\n",
       "Columns: [date, et_x, et_y]\n",
       "Index: []"
      ]
     },
     "execution_count": 13,
     "metadata": {},
     "output_type": "execute_result"
    }
   ],
   "source": [
    "means_growing = pd.DataFrame(columns=['date','et_x','et_y'])\n",
    "means_growing.head()"
   ]
  },
  {
   "cell_type": "code",
   "execution_count": null,
   "id": "d6414e1a",
   "metadata": {},
   "outputs": [],
   "source": [
    "# combing the data for filled and original original data for growing season only\n",
    "list_difference =[]\n",
    "# list_difference_mean =[]\n",
    "for fid_filled in listFilesGrowing:\n",
    "    print(((fid_filled.split('2_'))[1]))\n",
    "    print(fid_filled)\n",
    "    control = (fid_filled[2:]).replace('_filled.csv','_control.csv')\n",
    "    file_filled = os.path.join(input_folder,fid_filled)\n",
    "    file_control = os.path.join(input_folder,control)\n",
    "    control_df = pd.read_csv(file_control)\n",
    "    filled_df = pd.read_csv(file_filled)\n",
    "    merged_df = pd.merge(control_df, filled_df, on=['lat', 'long'], how='inner')\n",
    "    mean1 = merged_df.mean()\n",
    "    \n",
    "    temporal = {'et_x': mean1.loc['et_x'],\n",
    "                'et_y': mean1.loc['et_y']}\n",
    "    temporal = pd.DataFrame([temporal])\n",
    "    means_growing = pd.concat([means_growing[['et_x','et_y']],temporal])\n",
    "    difference = merged_df['et_x']-merged_df['et_y']\n",
    "#     difference_mean = means_growing['et_x']-means_growing['et_y']\n",
    "    list_difference.extend(difference.tolist())\n",
    "#     list_difference_mean.extend(difference_mean.tolist())\n",
    "    \n",
    "    df_growing = pd.concat([df_growing[['et_x','et_y']],merged_df[['et_x','et_y']]])"
   ]
  },
  {
   "cell_type": "code",
   "execution_count": null,
   "id": "0d32c46c",
   "metadata": {},
   "outputs": [],
   "source": [
    "n= len(list_difference)\n",
    "print(n)\n",
    "list_difference1 = [math.pow(i,2) for i in list_difference]\n",
    "sumValues = sum(list_difference1)\n",
    "RMSE = math.sqrt(sumValues/n)\n",
    "print(RMSE)"
   ]
  },
  {
   "cell_type": "code",
   "execution_count": null,
   "id": "d4aa14f5",
   "metadata": {},
   "outputs": [],
   "source": [
    "list_difference2 = [abs(i) for i in list_difference]\n",
    "sumValues = sum(list_difference2)\n",
    "MAE = sumValues/n\n",
    "print(MAE)"
   ]
  },
  {
   "cell_type": "code",
   "execution_count": null,
   "id": "4fca5c0c",
   "metadata": {},
   "outputs": [],
   "source": [
    "import matplotlib.pyplot as plt\n",
    "fig, axes = plt.subplots()\n",
    "df.sort_values(by='et_x')\n",
    "axes.scatter(df['et_x'],df['et_y'])\n",
    "print(df.min())\n",
    "print(df.max())\n",
    "fig.show()"
   ]
  },
  {
   "cell_type": "markdown",
   "id": "dc8654db-456f-4be6-bb42-c0bcf0a20ff0",
   "metadata": {},
   "source": [
    "Example of scatter plot for mean value of entire synthetic cloud and scatter plot for all pixels can be plotted using same code changing data of plotting. This scatter plot also shows the R2 value (coefficient of determination)"
   ]
  },
  {
   "cell_type": "code",
   "execution_count": null,
   "id": "00401e4e",
   "metadata": {
    "scrolled": true
   },
   "outputs": [],
   "source": [
    "import matplotlib.pyplot as plt\n",
    "import numpy as np \n",
    "\n",
    "fig, axes = plt.subplots()\n",
    "df.sort_values(by='et_x')\n",
    "# axes.scatter(means['et_x'],means['et_y'],label='ET')\n",
    "axes.scatter(means['et_x'],means['et_y'],label='ET')\n",
    "y_values = means['et_y']\n",
    "x_values = means['et_x']\n",
    "\n",
    "min_x = math.floor(np.nanmin(x_values))\n",
    "max_x = math.ceil(np.nanmax(x_values))\n",
    "                    \n",
    "min_y = math.floor(np.nanmin(y_values))\n",
    "max_y = math.floor(np.nanmax(y_values))                    \n",
    "\n",
    "x_ticks = np.linspace(min(min_x,min_y), max(max_x,max_y), 10)                  \n",
    "y_ticks = np.linspace(min(min_x,min_y), max(max_x,max_y), 10)                  \n",
    "\n",
    "line_x = np.array([min(min_x,min_y), max(max_x,max_y)])\n",
    "                  \n",
    "idx = np.isfinite(x_values) & np.isfinite(y_values)\n",
    "\n",
    "coefficients = np.polyfit(x_values[idx], y_values[idx], 1)\n",
    "poly = np.poly1d(coefficients)\n",
    "\n",
    "\n",
    "y_mean = np.mean(y_values[idx])\n",
    "y_pred = poly(x_values[idx])\n",
    "                  \n",
    "ssr = np.sum((y_pred- y_mean) ** 2)\n",
    "sse = np.sum((y_values[idx] - y_pred) ** 2)\n",
    "                  \n",
    "r_squared = 1 - (sse / ssr)\n",
    "axes.annotate(f'R² = {r_squared:.2f}', xy=(x_values[idx].min(), y_values[idx].max()), fontsize=12)                  \n",
    "\n",
    "axes.plot(line_x, line_x, label='Line Plot', color='red')\n",
    "axes.legend()\n",
    "print(means.min())\n",
    "print(means.max())\n",
    "# Filled ET\n",
    "fig.suptitle('Mean ET graph for an agricultural areas using IDW spatial interpolation\\n in Path/Row 28/31',fontsize =10)\n",
    "axes.set_xlabel('Mean daily ET control (mm day$^{-1}$)')\n",
    "axes.set_ylabel('Mean daily ET on a artificial cloud gap (mm day$^{-1}$)')\n",
    "fig.show()"
   ]
  },
  {
   "cell_type": "markdown",
   "id": "f8f3c06f-dafb-4313-b045-e941b6e70253",
   "metadata": {},
   "source": [
    "# Scatter plot for growing season data"
   ]
  },
  {
   "cell_type": "code",
   "execution_count": null,
   "id": "d9b7d715",
   "metadata": {},
   "outputs": [],
   "source": [
    "import matplotlib.pyplot as plt\n",
    "fig, axes = plt.subplots()\n",
    "df_growing.sort_values(by='et_x')\n",
    "axes.scatter(df_growing['et_x'],df_growing['et_y'])\n",
    "fig.show()"
   ]
  },
  {
   "cell_type": "code",
   "execution_count": null,
   "id": "f132f6ee",
   "metadata": {
    "scrolled": true
   },
   "outputs": [],
   "source": [
    "\n",
    "fig, axes = plt.subplots()\n",
    "df.sort_values(by='et_x')\n",
    "axes.scatter(means_growing['et_x'],means_growing['et_y'],label='ET')\n",
    "\n",
    "y_values = means_growing['et_y']\n",
    "x_values = means_growing['et_x']\n",
    "\n",
    "min_x = math.floor(np.nanmin(x_values))\n",
    "max_x = math.ceil(np.nanmax(x_values))\n",
    "                    \n",
    "min_y = math.floor(np.nanmin(y_values))\n",
    "max_y = math.floor(np.nanmax(y_values))                    \n",
    "\n",
    "x_ticks = np.linspace(min(min_x,min_y), max(max_x,max_y), 10)                  \n",
    "y_ticks = np.linspace(min(min_x,min_y), max(max_x,max_y), 10)                  \n",
    "\n",
    "line_x = np.array([min(min_x,min_y), max(max_x,max_y)])\n",
    "                  \n",
    "idx = np.isfinite(x_values) & np.isfinite(y_values)\n",
    "\n",
    "coefficients = np.polyfit(x_values[idx], y_values[idx], 1)\n",
    "poly = np.poly1d(coefficients)\n",
    "\n",
    "\n",
    "y_mean = np.mean(y_values[idx])\n",
    "y_pred = poly(x_values[idx])\n",
    "                  \n",
    "ssr = np.sum((y_pred- y_mean) ** 2)\n",
    "sse = np.sum((y_values[idx] - y_pred) ** 2)\n",
    "                  \n",
    "r_squared = 1 - (sse / ssr)\n",
    "axes.annotate(f'R² = {r_squared:.2f}', xy=(x_values[idx].min(), y_values[idx].max()), fontsize=12)                  \n",
    "\n",
    "axes.plot(line_x, line_x, label='Line Plot', color='red')\n",
    "axes.legend()\n",
    "print(means.min())\n",
    "print(means.max())\n",
    "fig.suptitle('Mean daily ET graph for agricultural areas using linear time interpolation\\n in Path/Row 28/31',fontsize =10)\n",
    "axes.set_xlabel('Daily ET control (mm day$^{-1}$)')\n",
    "axes.set_ylabel('Daily ET predict (mm day$^{-1}$)')\n",
    "fig.show()"
   ]
  },
  {
   "cell_type": "code",
   "execution_count": null,
   "id": "ec5960bb-df07-497a-9ab9-88c603079cc8",
   "metadata": {},
   "outputs": [],
   "source": []
  },
  {
   "cell_type": "code",
   "execution_count": null,
   "id": "9e66ee43-ff8f-4434-a437-3692f87bd786",
   "metadata": {},
   "outputs": [],
   "source": []
  }
 ],
 "metadata": {
  "kernelspec": {
   "display_name": "Python 3 (ipykernel)",
   "language": "python",
   "name": "python3"
  },
  "language_info": {
   "codemirror_mode": {
    "name": "ipython",
    "version": 3
   },
   "file_extension": ".py",
   "mimetype": "text/x-python",
   "name": "python",
   "nbconvert_exporter": "python",
   "pygments_lexer": "ipython3",
   "version": "3.12.7"
  }
 },
 "nbformat": 4,
 "nbformat_minor": 5
}
