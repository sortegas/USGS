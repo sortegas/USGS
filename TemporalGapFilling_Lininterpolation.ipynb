{
 "cells": [
  {
   "cell_type": "markdown",
   "id": "b7d6f575-e29a-4190-b0d1-995ed30e86ac",
   "metadata": {},
   "source": [
    "# Linear interpolation for temporal gap filling of ET data due to cloud coverage"
   ]
  },
  {
   "cell_type": "markdown",
   "id": "300a48d2-7495-4f93-bcc1-8f07216677cc",
   "metadata": {},
   "source": [
    "In order to fill the temporal data gap in ET calculated using eeMETRIC model from Landsat image, we tested linear interpolation algorithm in Google Earth Engine (GEE). Here data gap is due to cloud coverage. To test the temporal data gap filling algorithm, we started with creating synthetic cloud at random location. After that considering the ET data from before and after image for certain time window based on the time/day where we are filling data gaps are selected to get the linear interpolation values. Interpolated ET and original ET image were than exported in csv format for statistical analysis to evaluate the perfomance of interpolation outside the GEE platform."
   ]
  },
  {
   "cell_type": "code",
   "execution_count": 1,
   "id": "ec7060d6",
   "metadata": {},
   "outputs": [],
   "source": [
    "#Import necessary modules to use gee python api interface\n",
    "import ee\n",
    "ee.Initialize(project='enter your GEE cloud project name')  # Initialize with your GEE project name by replacing \" enter your GEE cloud project name\" with your project name"
   ]
  },
  {
   "cell_type": "code",
   "execution_count": 2,
   "id": "63cc8f45",
   "metadata": {},
   "outputs": [],
   "source": [
    "# Read  daily ET data calculated from eeMETRIC model for all available dates from GEE repository \n",
    "ET = ee.ImageCollection(\"projects/openet/assets/eemetric/conus/gridmet/landsat/c02\")\n",
    "\n",
    "# Note: Geometry polygon for any location of interest could be defined and here we have tested one location at Nebraska\n",
    "# Define geometry for synthetic cloud\n",
    "artificial_cloud = ee.Geometry.Polygon(\\\n",
    "        [[[-96.3384851427627, 41.98461447066241],\\\n",
    "          [-96.3384851427627, 41.89727618376869],\\\n",
    "          [-96.19978275018458, 41.89727618376869],\\\n",
    "          [-96.19978275018458, 41.98461447066241]]], None, False)\n",
    "\n",
    "area2mask=artificial_cloud"
   ]
  },
  {
   "cell_type": "code",
   "execution_count": 3,
   "id": "ae0cc86c",
   "metadata": {},
   "outputs": [],
   "source": [
    "# Define function to masking artifical cloud\n",
    "def artificial_cloud_image(image):\n",
    "    filters = image.updateMask(masking)\n",
    "    return filters\n",
    "    \n",
    "# Define function to rename time with short name that is associated with image collections\n",
    "def addTimeBand(image):\n",
    "    timeImage = image.metadata('system:time_start').rename('timestamp')\n",
    "    timeImageMasked = timeImage.updateMask(image.mask().select(0))\n",
    "    return image.addBands(timeImageMasked)\n",
    "\n",
    "# linear interpolation function for temporal gap filling\n",
    "def interpolation(image):\n",
    "    image = ee.Image(image)\n",
    "    beforeImages = ee.List(image.get('before'))\n",
    "\n",
    "    beforeMosaic = ee.ImageCollection.fromImages(beforeImages).mosaic()\n",
    "    afterImages = ee.List(image.get('after'))\n",
    "    afterMosaic = ee.ImageCollection.fromImages(afterImages).mosaic()\n",
    "\n",
    "    t1 = beforeMosaic.select('timestamp').rename('t1')\n",
    "    t2 = afterMosaic.select('timestamp').rename('t2')\n",
    "\n",
    "    t = image.metadata('system:time_start').rename('t')\n",
    "\n",
    "    timeImage = ee.Image.cat([t1, t2, t])\n",
    "\n",
    "    timeRatio = timeImage.expression('(t - t1) / (t2 - t1)', {\\\n",
    "    't': timeImage.select('t'),\\\n",
    "    't1': timeImage.select('t1'),\\\n",
    "    't2': timeImage.select('t2')})\n",
    "\n",
    "    interpolated = beforeMosaic.add((afterMosaic.subtract(beforeMosaic).multiply(timeRatio)))\n",
    "    result = image.unmask(interpolated)\n",
    "    return result.copyProperties(image, ['system:time_start'])\n",
    "\n",
    "# Function to add feature (lat/long) in feature collection to export data in csv format\n",
    "def addGeom2Property(feature):\n",
    "    coordinates =ee.Feature(feature).geometry().coordinates()\n",
    "    long = coordinates.get(0)\n",
    "    lat  = coordinates.get(1)\n",
    "    return feature.set({'long':long,'lat':lat})"
   ]
  },
  {
   "cell_type": "code",
   "execution_count": 4,
   "id": "ad86e035-3fe3-4848-9905-efefba3731ca",
   "metadata": {},
   "outputs": [],
   "source": [
    "# select band \"et\" which ET data from image collections\n",
    "et = ET.select('et')\n",
    "\n",
    "# filter the ET data based on the specific rows and path\n",
    "filtered = et.filter(ee.Filter.And(\\\n",
    "        ee.Filter.eq('wrs2_path',28),\\\n",
    "        ee.Filter.eq('wrs2_row',31)))\n",
    "# select the image collection with cloud cover less than 10% (image without clouds)\n",
    "filtered_control = filtered.filter(\\\n",
    "          ee.Filter.lte('CLOUD_COVER',10))\n",
    "\n",
    "# select the image collection with cloud cover greater than 10%  (image with clouds)\n",
    "filtered = filtered.filter(ee.Filter.gt('CLOUD_COVER',10))\n",
    "\n",
    "# creating image with constant value 1 for the pixels and cliped for synthetic cloud\n",
    "masking = ee.Image.constant(1).clip(artificial_cloud).mask().Not()\n",
    "\n",
    "# combine the synthetic cloud with the original image and create the image collections with synthetic cloud\n",
    "filtered_control1 = filtered_control.map(artificial_cloud_image)"
   ]
  },
  {
   "cell_type": "code",
   "execution_count": 5,
   "id": "fe212c56",
   "metadata": {},
   "outputs": [
    {
     "name": "stdout",
     "output_type": "stream",
     "text": [
      "{'type': 'Filter.maxDifference', 'difference': 5184000000, 'rightField': 'system:time_start', 'leftField': 'system:time_start'}\n"
     ]
    }
   ],
   "source": [
    "# join two image that has sythetic image with image collection filter with cloud greater than 10%\n",
    "filtered = filtered.merge(filtered_control1)\n",
    "\n",
    "# now add timeband to rename time\n",
    "filtered = filtered.map(addTimeBand)\n",
    "\n",
    "# we define 60 days time window to pick the image for interpolation and converting time into millis\n",
    "windows_days = 60\n",
    "millis = ee.Number(windows_days).multiply(1000*60*60*24)\n",
    "maxDiffFilter = ee.Filter.maxDifference(**{\\\n",
    "  'difference': millis,\\\n",
    "  'leftField': 'system:time_start',\\\n",
    "  'rightField': 'system:time_start'})\n",
    "print (maxDiffFilter.getInfo())"
   ]
  },
  {
   "cell_type": "code",
   "execution_count": 6,
   "id": "d1110207",
   "metadata": {},
   "outputs": [],
   "source": [
    "# create the left field and right field for filter less than equal to\n",
    "lessEqFilter = ee.Filter.lessThanOrEquals(**{\\\n",
    "  'leftField': 'system:time_start',\\\n",
    "  'rightField': 'system:time_start'})\n"
   ]
  },
  {
   "cell_type": "code",
   "execution_count": 7,
   "id": "e8f4ca2e",
   "metadata": {},
   "outputs": [],
   "source": [
    "# create the left field and right field for filter greater than equal to\n",
    "greaterEqFilter = ee.Filter.greaterThanOrEquals(**{\n",
    "  'leftField': 'system:time_start',\n",
    "  'rightField': 'system:time_start'\n",
    "})"
   ]
  },
  {
   "cell_type": "code",
   "execution_count": 8,
   "id": "6d0c6b4f",
   "metadata": {},
   "outputs": [],
   "source": [
    "filter1 = ee.Filter.And(maxDiffFilter, lessEqFilter)"
   ]
  },
  {
   "cell_type": "code",
   "execution_count": 9,
   "id": "13285b13",
   "metadata": {},
   "outputs": [],
   "source": [
    "join1 = ee.Join.saveAll(**{\\\n",
    "  'matchesKey': 'after',\\\n",
    "  'ordering': 'system:time_start',\\\n",
    "  'ascending': False})"
   ]
  },
  {
   "cell_type": "code",
   "execution_count": 10,
   "id": "0bfbff30",
   "metadata": {},
   "outputs": [],
   "source": [
    "join1Result = join1.apply(**{\n",
    "  'primary': filtered,\n",
    "  'secondary': filtered,\n",
    "  'condition': filter1\n",
    "})"
   ]
  },
  {
   "cell_type": "code",
   "execution_count": 11,
   "id": "cef1309c",
   "metadata": {},
   "outputs": [],
   "source": [
    "filter2 = ee.Filter.And(maxDiffFilter, greaterEqFilter)"
   ]
  },
  {
   "cell_type": "code",
   "execution_count": 12,
   "id": "efa60e9e",
   "metadata": {},
   "outputs": [],
   "source": [
    "join2 = ee.Join.saveAll(**{\\\n",
    "  'matchesKey': 'before',\\\n",
    "  'ordering': 'system:time_start',\\\n",
    "  'ascending': True})"
   ]
  },
  {
   "cell_type": "code",
   "execution_count": 13,
   "id": "955b1aa3",
   "metadata": {},
   "outputs": [],
   "source": [
    "join2Result = join2.apply(**{\\\n",
    "    'primary': join1Result,\\\n",
    "    'secondary': join1Result,\\\n",
    "    'condition': filter2})"
   ]
  },
  {
   "cell_type": "code",
   "execution_count": 14,
   "id": "6748a7ac",
   "metadata": {},
   "outputs": [],
   "source": [
    "interpolatedCol = ee.ImageCollection(join2Result.map(interpolation))"
   ]
  },
  {
   "cell_type": "code",
   "execution_count": 15,
   "id": "7d5725f7",
   "metadata": {},
   "outputs": [
    {
     "name": "stdout",
     "output_type": "stream",
     "text": [
      "122\n"
     ]
    }
   ],
   "source": [
    "filled= interpolatedCol.filter(\\\n",
    "                      ee.Filter.lte('CLOUD_COVER',10))\n",
    "\n",
    "print(filled.size().getInfo())\n"
   ]
  },
  {
   "cell_type": "code",
   "execution_count": 16,
   "id": "0869ebf0",
   "metadata": {},
   "outputs": [],
   "source": [
    "#print((filled.first().id().getInfo())+'_filled')"
   ]
  },
  {
   "cell_type": "code",
   "execution_count": 17,
   "id": "91819cd4",
   "metadata": {},
   "outputs": [
    {
     "name": "stdout",
     "output_type": "stream",
     "text": [
      "122\n"
     ]
    }
   ],
   "source": [
    "size = ee.ImageCollection(filled).size().getInfo()\n",
    "filledList = ee.ImageCollection(filled).toList(size)\n",
    "controlList = ee.ImageCollection(filtered_control).toList(size)\n",
    "print(size)"
   ]
  },
  {
   "cell_type": "markdown",
   "id": "4d7bf6b3-ed18-4669-9d33-1f9005c6df14",
   "metadata": {},
   "source": [
    "Exporting filled/interpolated image data in csv format with x,y coordinates and ET value for the co-ordinates"
   ]
  },
  {
   "cell_type": "code",
   "execution_count": 18,
   "id": "8cf0fd75",
   "metadata": {},
   "outputs": [
    {
     "name": "stdout",
     "output_type": "stream",
     "text": [
      "kk\n"
     ]
    }
   ],
   "source": [
    "for i in range(0,size):\n",
    "    if(i == size-1):\n",
    "        print('kk')\n",
    "    img = ee.Image(filledList.get(i))\n",
    "    outName = (img.id().getInfo()) + '_filled'\n",
    "    filled = img.multiply(0.0001)\n",
    "    sample  = filled.sample(**{\n",
    "        'region':artificial_cloud,\\\n",
    "        'scale':30,\\\n",
    "        'geometries':True})\n",
    "     \n",
    "    sample = sample.map(addGeom2Property)\n",
    "    task_config = {\n",
    "        'fileNamePrefix': outName,\n",
    "        'fileFormat': 'CSV',\n",
    "        'selectors': ['lat','long','et'],\n",
    "        'folder': 'Output_LinearInterpolation'\n",
    "    }\n",
    "    task = ee.batch.Export.table.toDrive(sample, outName, **task_config)\n",
    "    #task.start()"
   ]
  },
  {
   "cell_type": "code",
   "execution_count": 19,
   "id": "931eb91e",
   "metadata": {},
   "outputs": [],
   "source": [
    "for i in range(0,size):\n",
    "    img = ee.Image(controlList.get(i))\n",
    "    outName = (img.id().getInfo()) + '_control'\n",
    "    control = img.multiply(0.0001)\n",
    "    sample  = control.sample(**{\n",
    "        'region':artificial_cloud,\\\n",
    "        'scale':30,\\\n",
    "        'geometries':True})\n",
    "     \n",
    "    sample = sample.map(addGeom2Property)\n",
    "    task_config = {\n",
    "        'fileNamePrefix': outName,\n",
    "        'fileFormat': 'CSV',\n",
    "        'selectors': ['lat','long','et'],\n",
    "        'folder': 'Output_LinearInterpolation'\n",
    "    }\n",
    "    task = ee.batch.Export.table.toDrive(sample, outName, **task_config)\n",
    "    #task.start()"
   ]
  },
  {
   "cell_type": "code",
   "execution_count": null,
   "id": "b4461b57",
   "metadata": {},
   "outputs": [],
   "source": []
  }
 ],
 "metadata": {
  "kernelspec": {
   "display_name": "Python 3 (ipykernel)",
   "language": "python",
   "name": "python3"
  },
  "language_info": {
   "codemirror_mode": {
    "name": "ipython",
    "version": 3
   },
   "file_extension": ".py",
   "mimetype": "text/x-python",
   "name": "python",
   "nbconvert_exporter": "python",
   "pygments_lexer": "ipython3",
   "version": "3.12.7"
  }
 },
 "nbformat": 4,
 "nbformat_minor": 5
}
